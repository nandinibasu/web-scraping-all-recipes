{
 "cells": [
  {
   "cell_type": "code",
   "execution_count": 12,
   "metadata": {
    "colab": {},
    "colab_type": "code",
    "id": "X7ry2cFl5Bqw"
   },
   "outputs": [],
   "source": [
    "# Importing files\n",
    "import time\n",
    "import bs4 as bs\n",
    "import requests"
   ]
  },
  {
   "cell_type": "code",
   "execution_count": 13,
   "metadata": {
    "colab": {},
    "colab_type": "code",
    "id": "tKK8HIdV5XtI"
   },
   "outputs": [],
   "source": [
    "# Connecting to All Recipes\n",
    "login_url='https://www.allrecipes.com/account/signin/'\n",
    "headers = {'User-Agent': 'Mozilla/5.0'}"
   ]
  },
  {
   "cell_type": "code",
   "execution_count": 14,
   "metadata": {
    "colab": {},
    "colab_type": "code",
    "id": "bZo7ZmTb74TS"
   },
   "outputs": [],
   "source": [
    "# Storing the response and making soup\n",
    "response = requests.get(login_url, headers=headers)\n",
    "soup = bs.BeautifulSoup(response.text,'html.parser')"
   ]
  },
  {
   "cell_type": "code",
   "execution_count": 15,
   "metadata": {
    "colab": {
     "base_uri": "https://localhost:8080/",
     "height": 34
    },
    "colab_type": "code",
    "id": "c0qJIluG8XD0",
    "outputId": "4ffd25ae-e35c-45e8-bd72-d3b9d8191180"
   },
   "outputs": [
    {
     "data": {
      "text/plain": [
       "'4285282806355881482054842462205510716074443673886979209685220892655676'"
      ]
     },
     "execution_count": 15,
     "metadata": {},
     "output_type": "execute_result"
    }
   ],
   "source": [
    "# Finding the token\n",
    "login_section = soup.find(\"section\", {\"class\": \"uiForm login\"})\n",
    "# Saving token value\n",
    "token = login_section.find(\"input\", {\"name\": \"SocialCsrfToken\"}).attrs['value']\n",
    "token"
   ]
  },
  {
   "cell_type": "code",
   "execution_count": 16,
   "metadata": {},
   "outputs": [
    {
     "data": {
      "text/plain": [
       "<section class=\"uiForm login\">\n",
       "<h2>Sign in with email.</h2>\n",
       "<h4 class=\"signin-subhead\">Existing Allrecipes users.</h4>\n",
       "<!-- For Login Errors-->\n",
       "<form action=\"/account/signin/\" data-ajax=\"false\" method=\"post\" name=\"signinForm\" novalidate=\"\">\n",
       "<input id=\"ReferringType\" name=\"ReferringType\" type=\"hidden\" value=\"\">\n",
       "<input id=\"ReferringUrl\" name=\"ReferringUrl\" type=\"hidden\" value=\"https://www.allrecipes.com/\">\n",
       "<input id=\"ReferringAction\" name=\"ReferringAction\" type=\"hidden\" value=\"\">\n",
       "<input id=\"ReferringParams\" name=\"ReferringParams\" type=\"hidden\" value=\"\">\n",
       "<input data-val=\"true\" data-val-required=\"The AuthLayoutMode field is required.\" id=\"AuthLayoutMode\" name=\"AuthLayoutMode\" type=\"hidden\" value=\"Standard\">\n",
       "<input id=\"SocialCsrfToken\" name=\"SocialCsrfToken\" type=\"hidden\" value=\"4285282806355881482054842462205510716074443673886979209685220892655676\">\n",
       "<input data-role=\"none\" id=\"txtUserNameOrEmail\" maxlength=\"500\" name=\"txtUserNameOrEmail\" placeholder=\"Email\" type=\"email\" value=\"\">\n",
       "<div class=\"loginPswrdCntnr\">\n",
       "<input data-role=\"none\" id=\"password\" maxlength=\"500\" name=\"password\" placeholder=\"Password\" type=\"password\" value=\"\">\n",
       "</input></div>\n",
       "<aside class=\"aside-left\">\n",
       "<label class=\"checkList__item secure\">\n",
       "<input checked=\"checked\" data-role=\"none\" id=\"rememberMe\" name=\"rememberMe\" type=\"checkbox\"><span class=\"span-signIn\">Remember me</span>\n",
       "</input></label>\n",
       "</aside>\n",
       "<aside class=\"aside-right\">\n",
       "<a class=\"btn-right\" href=\"/account/forgotpassword/?layout=Standard&amp;loginReferrerUrl=https%3A%2F%2Fwww.allrecipes.com%2F\" id=\"lnkForgotPassword\" tabindex=\"500\">Forgot password?</a>\n",
       "</aside>\n",
       "<input class=\"btnSubmit\" data-action=\"submit\" data-role=\"none\" id=\"submitLogInForm\" type=\"submit\" value=\"Sign In\">\n",
       "</input></input></input></input></input></input></input></input></form>\n",
       "<a class=\"join-for-free\" onclick=\"AR.Account.lnkJoinForFree();\"><span>New to Allrecipes?</span> Join for free!</a>\n",
       "<p class=\"sub-text\">\n",
       "                        By signing in, you are agreeing to our <a href=\"http://www.meredith.com/legal/terms\">Terms of <br/>\n",
       "                            Service</a> and our <a href=\"http://www.meredith.com/privacy.html\" target=\"_blank\">Privacy Policy—Your California Rights</a>.\n",
       "                    </p>\n",
       "</section>"
      ]
     },
     "execution_count": 16,
     "metadata": {},
     "output_type": "execute_result"
    }
   ],
   "source": [
    "login_section"
   ]
  },
  {
   "cell_type": "code",
   "execution_count": 6,
   "metadata": {
    "colab": {},
    "colab_type": "code",
    "id": "c51eLo3eUWgO"
   },
   "outputs": [],
   "source": [
    "# Pausing between requests\n",
    "time.sleep(1)"
   ]
  },
  {
   "cell_type": "code",
   "execution_count": 7,
   "metadata": {
    "colab": {},
    "colab_type": "code",
    "id": "7XL1PLky-2pL"
   },
   "outputs": [],
   "source": [
    "# Logging in as Nandini\n",
    "session_requests_nan = requests.session()\n",
    "recipe_data_nan = {'referer': 'https://www.allrecipes.com/',\n",
    "    'AuthLayoutMode': 'Standard',\n",
    "    'txtUserNameOrEmail' : 'nbasu@ucdavis.edu', \n",
    "    'password' : '******.',\n",
    "    'SocialCsrfToken': token, \n",
    "}\n",
    "response_nan = session_requests_nan.post(login_url, data=recipe_data_nan, headers=headers, timeout = 15)\n",
    "page_nan = session_requests_nan.get(login_url, headers = dict(referer = login_url))"
   ]
  },
  {
   "cell_type": "code",
   "execution_count": 8,
   "metadata": {
    "colab": {
     "base_uri": "https://localhost:8080/",
     "height": 34
    },
    "colab_type": "code",
    "id": "AwfB_QwDANRJ",
    "outputId": "8666faa8-00a9-4ef0-bf52-cd05265076fc"
   },
   "outputs": [
    {
     "data": {
      "text/plain": [
       "'Nandini Basu'"
      ]
     },
     "execution_count": 8,
     "metadata": {},
     "output_type": "execute_result"
    }
   ],
   "source": [
    "# Printing User Name for Nandini \n",
    "soup_nan = bs.BeautifulSoup(page_nan.text, 'html.parser')\n",
    "user_name_nan = soup_nan.find(\"div\", attrs = {'class': 'login-state authenticated-user'}).text\n",
    "user_name_nan.strip('\\n')"
   ]
  },
  {
   "cell_type": "code",
   "execution_count": 9,
   "metadata": {
    "colab": {},
    "colab_type": "code",
    "id": "4-9fFjmfYEah"
   },
   "outputs": [],
   "source": [
    "# Pausing between requests\n",
    "time.sleep(1)"
   ]
  },
  {
   "cell_type": "code",
   "execution_count": 10,
   "metadata": {
    "colab": {},
    "colab_type": "code",
    "id": "UO1oUVUXYZPC"
   },
   "outputs": [],
   "source": [
    "# Logging in as Linyan\n",
    "session_requests_lin = requests.session()\n",
    "recipe_data_lin = {'referer': 'https://www.allrecipes.com/',\n",
    "    'AuthLayoutMode': 'Standard',\n",
    "    'txtUserNameOrEmail' : 'dailinyan1997@163.com', \n",
    "    'password' : '******',\n",
    "    'SocialCsrfToken': token, \n",
    "}\n",
    "response_lin = session_requests_lin.post(login_url, data=recipe_data_lin, headers=headers, timeout = 15)\n",
    "page_lin = session_requests_lin.get(login_url, headers = dict(referer = login_url))"
   ]
  },
  {
   "cell_type": "code",
   "execution_count": 11,
   "metadata": {
    "colab": {
     "base_uri": "https://localhost:8080/",
     "height": 34
    },
    "colab_type": "code",
    "id": "GCseZLhgpaHx",
    "outputId": "aa9342dd-183a-4120-e100-042affb23794"
   },
   "outputs": [
    {
     "name": "stdout",
     "output_type": "stream",
     "text": [
      "\n",
      "dlydly\n",
      "\n",
      "\n"
     ]
    }
   ],
   "source": [
    "# Printing User Name for Linyan \n",
    "soup_lin = bs.BeautifulSoup(page_lin.text, 'html.parser')\n",
    "user_name_lin = soup_lin.find(\"div\", attrs = {'class': 'login-state authenticated-user'}).text\n",
    "print(user_name_lin)"
   ]
  },
  {
   "cell_type": "code",
   "execution_count": 21,
   "metadata": {
    "colab": {},
    "colab_type": "code",
    "id": "DLHurRS1YF4a"
   },
   "outputs": [],
   "source": [
    "# Pausing between requests\n",
    "time.sleep(1)"
   ]
  },
  {
   "cell_type": "code",
   "execution_count": 22,
   "metadata": {
    "colab": {},
    "colab_type": "code",
    "id": "823YVY388uQE"
   },
   "outputs": [],
   "source": [
    "# Logging in as Maxine\n",
    "session_requests_max = requests.session()\n",
    "recipe_data_max = {'referer': 'https://www.allrecipes.com/',\n",
    "    'AuthLayoutMode': 'Standard',\n",
    "    'txtUserNameOrEmail' : 'maxineli750@163.com', \n",
    "    'password' : '******',\n",
    "    'SocialCsrfToken': token, \n",
    "}\n",
    "response_max = session_requests_max.post(login_url, data=recipe_data_max, headers=headers, timeout = 15)\n",
    "page_max = session_requests_max.get(login_url, headers = dict(referer = login_url))"
   ]
  },
  {
   "cell_type": "code",
   "execution_count": 23,
   "metadata": {
    "colab": {
     "base_uri": "https://localhost:8080/",
     "height": 34
    },
    "colab_type": "code",
    "id": "QXfquYIh8zUY",
    "outputId": "995b0517-4471-4a51-d178-cbab719243fa"
   },
   "outputs": [
    {
     "data": {
      "text/plain": [
       "'maxinelili'"
      ]
     },
     "execution_count": 23,
     "metadata": {},
     "output_type": "execute_result"
    }
   ],
   "source": [
    "# Printing User Name for Maxine \n",
    "soup_max = bs.BeautifulSoup(page_max.text, 'html.parser')\n",
    "user_name_max = soup_max.find(\"div\", attrs = {'class': 'login-state authenticated-user'}).text\n",
    "user_name_max.strip('\\n')"
   ]
  }
 ],
 "metadata": {
  "colab": {
   "collapsed_sections": [],
   "name": "Web Scraping HW 3.ipynb",
   "provenance": []
  },
  "kernelspec": {
   "display_name": "Python 3",
   "language": "python",
   "name": "python3"
  },
  "language_info": {
   "codemirror_mode": {
    "name": "ipython",
    "version": 3
   },
   "file_extension": ".py",
   "mimetype": "text/x-python",
   "name": "python",
   "nbconvert_exporter": "python",
   "pygments_lexer": "ipython3",
   "version": "3.7.4"
  }
 },
 "nbformat": 4,
 "nbformat_minor": 1
}
